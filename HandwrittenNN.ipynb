{
 "cells": [
  {
   "cell_type": "code",
   "execution_count": 1,
   "metadata": {},
   "outputs": [],
   "source": [
    "# Handwritten Neural Network test: HandwrittenNN.ipynb\n",
    "# Author: comtalyst"
   ]
  },
  {
   "cell_type": "code",
   "execution_count": 30,
   "metadata": {},
   "outputs": [],
   "source": [
    "import numpy as np\n",
    "import matplotlib.pyplot as plot"
   ]
  },
  {
   "cell_type": "code",
   "execution_count": 52,
   "metadata": {},
   "outputs": [],
   "source": [
    "def sigmoid(Z):\n",
    "    A = 1/(1 + np.exp(-Z))\n",
    "    return A\n",
    "\n",
    "def sigmoid_deriv(Z):\n",
    "    '''\n",
    "    (Coursera DL Notes, p. 8)\n",
    "    '''\n",
    "    A = sigmoid(Z)\n",
    "    return np.multiply(A,(1 - A))"
   ]
  },
  {
   "cell_type": "code",
   "execution_count": 53,
   "metadata": {},
   "outputs": [],
   "source": [
    "def relu(Z):\n",
    "    A = np.max(0, Z)\n",
    "    return A\n",
    "\n",
    "def relu_deriv(Z):\n",
    "    '''\n",
    "    (Coursera DL Notes, p. 9)\n",
    "    '''\n",
    "    if Z < 0:\n",
    "        return 0\n",
    "    else:\n",
    "        return 1"
   ]
  },
  {
   "cell_type": "code",
   "execution_count": 80,
   "metadata": {},
   "outputs": [],
   "source": [
    "def forward_propagation(X, W, b, activations):\n",
    "    L = W.shape[0]          # layers\n",
    "    n = X.shape[0]          # features\n",
    "    m = X.shape[1]          # samples\n",
    "\n",
    "    # initialize linear output\n",
    "    '''\n",
    "    This np.ndarray allow us to contruct an array with size initialized and can have any data type in it (from dtype=object)\n",
    "    Therefore, we could use this to create histogram-like array for the uneven NN\n",
    "    '''\n",
    "    Z = np.ndarray(shape=[L+1], dtype=object)\n",
    "    A = np.ndarray(shape=[L+1], dtype=object)\n",
    "    \n",
    "    # base case\n",
    "    Z[1] = np.dot(W[1], X) + b[1]\n",
    "    # activation\n",
    "    if activations[0] == \"sigmoid\":\n",
    "        A[1] = sigmoid(Z[1])\n",
    "    elif activations[0] == \"relu\":\n",
    "        A[1] = relu(Z[1])\n",
    "    else:\n",
    "        A[1] = Z[1]\n",
    "\n",
    "    # loop the layers\n",
    "    for l in range(2, L):\n",
    "        Z[l] = np.dot(W[l], A[l-1]) + b[l]\n",
    "        if activations[l-1] == \"sigmoid\":\n",
    "            A[l] = sigmoid(Z[l])\n",
    "        elif activations[l-1] == \"relu\":\n",
    "            A[l] = relu(Z[l])\n",
    "        else:\n",
    "            A[l] = Z[l]\n",
    "\n",
    "    return A, Z\n",
    "        "
   ]
  },
  {
   "cell_type": "code",
   "execution_count": null,
   "metadata": {},
   "outputs": [],
   "source": []
  },
  {
   "cell_type": "code",
   "execution_count": 79,
   "metadata": {},
   "outputs": [
    {
     "name": "stdout",
     "output_type": "stream",
     "text": "X\n[[1. 4. 9. 7. 6.]\n [7. 1. 0. 9. 2.]]\nW\n[None array([[8., 0.],\n       [1., 2.],\n       [6., 4.]])\n array([[7., 1., 7.],\n       [9., 1., 6.],\n       [1., 5., 7.],\n       [7., 3., 6.]])]\nb\n[None array([[4.],\n       [2.],\n       [3.]])\n array([[6.],\n       [4.],\n       [3.],\n       [9.]])]\nA\n[None\n array([[12., 36., 76., 60., 52.],\n       [17.,  8., 11., 27., 12.],\n       [37., 31., 57., 81., 47.]])\n array([[ 366.,  483.,  948., 1020.,  711.],\n       [ 351.,  522., 1041., 1057.,  766.],\n       [ 359.,  296.,  533.,  765.,  444.],\n       [ 366.,  471.,  916.,  996.,  691.]])\n None]\n"
    }
   ],
   "source": [
    "\n",
    "L = 2\n",
    "n1 = 3\n",
    "n2 = 4\n",
    "#n3 = 2\n",
    "n = 2\n",
    "m = 5\n",
    "activations = [\"dumb\", \"dumb\", \"dumb\"]\n",
    "\n",
    "X = np.round(np.random.rand(n, m)*10) % 10\n",
    "W = np.ndarray(shape=[L+1], dtype=object)\n",
    "b = np.ndarray(shape=[L+1], dtype=object)\n",
    "\n",
    "W[1] = np.round(np.random.rand(n1, n)*10) % 10\n",
    "W[2] = np.round(np.random.rand(n2, n1)*10) % 10\n",
    "#W[3] = np.round(np.random.rand(n3, n2)*10) % 10\n",
    "b[1] = np.round(np.random.rand(n1, 1)*10) % 10\n",
    "b[2] = np.round(np.random.rand(n2, 1)*10) % 10\n",
    "#b[3] = np.round(np.random.rand(n3, 1)*10) % 10\n",
    "\n",
    "A, Z = forward_propagation(X, W, b, activations)\n",
    "print(\"X\")\n",
    "print(X)\n",
    "print(\"W\")\n",
    "print(W)\n",
    "print(\"b\")\n",
    "print(b)\n",
    "print(\"A\")\n",
    "print(A)"
   ]
  },
  {
   "cell_type": "code",
   "execution_count": null,
   "metadata": {},
   "outputs": [],
   "source": []
  }
 ],
 "metadata": {
  "kernelspec": {
   "name": "python37664bit961b0c540318489d9163391a342af877",
   "display_name": "Python 3.7.6 64-bit"
  }
 },
 "nbformat": 4,
 "nbformat_minor": 4
}